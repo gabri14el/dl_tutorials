{
 "cells": [
  {
   "cell_type": "markdown",
   "id": "91cb44ad",
   "metadata": {},
   "source": [
    "# How to import brush masks to labelstudio\n",
    "## Author: Gabriel Carneiro (gabri14el)"
   ]
  },
  {
   "cell_type": "markdown",
   "id": "441aface",
   "metadata": {},
   "source": [
    "In the first step you must run the label studio defining two environment variables:\n",
    "\n",
    "\n",
    "```bash\n",
    "\n",
    "LABEL_STUDIO_LOCAL_FILES_SERVING_ENABLED=true LABEL_STUDIO_LOCAL_FILES_DOCUMENT_ROOT=/home/gabriel/ label-studio\n",
    "\n",
    "```\n",
    "\n",
    "\n",
    "In this example, the label studio is going to recognize the __'/home/gabriel'__ as the base path to serve files into its own service. I did not test putting my dataset in several directories, i just put it in __'/home/gabriel/castanheiros'__.\n",
    "\n",
    "Following, in the labelstudio go to your **project -> settings -> cloud storage** and click in **Add Source Storage**.  In Storage type select local files. In absolute local path put the path to your dataset and some name in Storage title (it is not useful). It is important that the option 'Treat every bucket object as a source file' to be untoggled. As showed in the example bellow (the example uses dataset1 instead castanheiros).\n",
    "\n",
    "![](https://labelstud.io/images/local-storage-settings2.png)  \n",
    "\n",
    "Then, click in **Add Storage**. Note that you **DO NOT MUST** click in Sync in the next page. \n",
    "\n",
    "To test if your local storage is ready, you can access the following link: ```http://localhost:8080/data/local-files/?d=\\$YOUR_FIRST_FOLDER/\\$SOME_FILE_THERE.jpg```. In my example, since my first folder after the absolute path is ```castanheiros```, inside it i have a file named ```DJI_0661-patch_47.jpg```, and my labl studion is running in the port 8080, i can retrieve the file using \n",
    "\n",
    "\n",
    "```\n",
    "http://localhost:8080/data/local-files?d=castanheiros/DJI_0661-patch_47.jpg\n",
    "\n",
    "```\n",
    "\n",
    "\n",
    "This configuration is mandatory because the labstudio importing each image from some link. Others bucket as Amazon S3, Google Cloud and so on are supported. \n"
   ]
  },
  {
   "cell_type": "markdown",
   "id": "25b9fee3",
   "metadata": {},
   "source": [
    "After, you must use the following code to convert your masks to the format that label studio can import. \n",
    "\n",
    "The code bellow to the job for us. Please, note that the library label_studio_converter must be installed. \n",
    "\n",
    "The following code must be placed in the labelling interface of your project:\n",
    "\n",
    "\n",
    "```xml\n",
    "<View>\n",
    "      <Image name=\"image\" value=\"$image\" zoom=\"true\"/>\n",
    "      <BrushLabels name=\"tag\" toName=\"image\">\n",
    "        <Label value=\"hedgehog\" background=\"rgba(255, 0, 0, 0.7)\"/>\n",
    "      </BrushLabels>\n",
    "</View>\n",
    "```\n",
    "\n"
   ]
  },
  {
   "cell_type": "code",
   "execution_count": 1,
   "id": "08c1aa4c",
   "metadata": {},
   "outputs": [],
   "source": [
    "import unittest\n",
    "import urllib3\n",
    "import json\n",
    "\n",
    "from label_studio_converter.brush import encode_rle, image2annotation\n",
    "import cv2\n",
    "import os"
   ]
  },
  {
   "cell_type": "code",
   "execution_count": 2,
   "id": "d14e57cd",
   "metadata": {},
   "outputs": [],
   "source": [
    "dataset = r'/home/gabriel/Projects/Castanheiros/castanheiro-dataset'\n",
    "\n",
    "#define the locations of images, masks, and where labels are going to be stored\n",
    "images = os.path.join(dataset, 'images')\n",
    "masks = os.path.join(dataset, 'masks')\n",
    "masks_inverted = os.path.join(dataset, 'masks_inverted')\n",
    "label_studio = os.path.join(dataset, 'labels')\n",
    "\n",
    "os.makedirs(label_studio, exist_ok=True)\n",
    "os.makedirs(masks_inverted, exist_ok=True)\n",
    "\n",
    "#iterate over the images\n",
    "for root, dirs, files in os.walk(images, topdown=False):\n",
    "    for name in files:\n",
    "        dic = {}\n",
    "        file = os.path.join(root, name)\n",
    "        img_name = name.split('.')[0]\n",
    "        \n",
    "        #this block invert the images, since IS MANDATORY that the background be represented by 0\n",
    "        mask = cv2.imread(os.path.join(masks, img_name+'.png'))\n",
    "        mask_inverted = cv2.bitwise_not(mask)\n",
    "        cv2.imwrite(os.path.join(masks_inverted, img_name+'.png'), mask_inverted)\n",
    "        \n",
    "        #convert the annotation for the format accepeted by label studio\n",
    "        #note that the class with 1 is named by 'hedgehog', keep the other values\n",
    "        annotation = image2annotation(\n",
    "            os.path.join(masks_inverted, img_name+'.png'),\n",
    "            label_name='hedgehog',\n",
    "            from_name='tag',\n",
    "            to_name='image',\n",
    "            model_version='v1',\n",
    "            score=0.5,\n",
    "        )\n",
    "        \n",
    "        #data must be a URL served by labelstudio, thus we are going to use the same url but without\n",
    "        #defining host or port, only the subdirectories\n",
    "        task = {\n",
    "            'data': {'image': '/data/local-files/?d=castanheiros/'+name},\n",
    "            'predictions': [annotation],\n",
    "        }\n",
    "        \n",
    "        #save each json corresponding to a image\n",
    "        json.dump(task, open(os.path.join(label_studio, img_name+'.json'), 'w'))\n",
    "        \n"
   ]
  },
  {
   "cell_type": "markdown",
   "id": "ad756718",
   "metadata": {},
   "source": [
    "At the end of this step, for each image in your dataset you must have a correspondent json. This json contains the url opf the image and the annotation. You can import it in your project homepage! \n",
    "\n",
    "Example:\n",
    "\n",
    "\n",
    "```json\n",
    "\n",
    "{\"data\": {\"image\": \"/data/local-files/?d=castanheiros/DJI_0661-patch_43.jpg\"}, \"predictions\": [{\"result\": [{\"id\": \"f1969bd3\", \"type\": \"brushlabels\", \"value\": {\"rle\": [0, 22, 144, 0, 57, 27, 255, 255, 255, 0, 255, 255, 224, 31, 255, 252, 3, 255, 255, 128, 127, 255, 240, 15, 255, 254, 1, 255, 255, 192, 63, 255, 248, 7, 255, 255, 0, 255, 255, 224, 31, 255, 252, 3, 255, 255, 128, 127, 255, 240, 15, 255, 254, 1, 255, 255, 192, 63, 255, 248, 7, 255, 255, 0, 255, 255, 224, 31, 255, 252, 3, 255, 255, 128, 127, 255, 240, 15, 255, 254, 1, 227, 255, 192, 0], \"format\": \"rle\", \"brushlabels\": [\"hedgehog\"]}, \"origin\": \"manual\", \"to_name\": \"image\", \"from_name\": \"tag\", \"image_rotation\": 0, \"original_width\": 608, \"original_height\": 608}], \"model_version\": \"v1\", \"score\": 0.5}]}\n",
    "\n",
    "```\n"
   ]
  }
 ],
 "metadata": {
  "kernelspec": {
   "display_name": "Python 3 (ipykernel)",
   "language": "python",
   "name": "python3"
  },
  "language_info": {
   "codemirror_mode": {
    "name": "ipython",
    "version": 3
   },
   "file_extension": ".py",
   "mimetype": "text/x-python",
   "name": "python",
   "nbconvert_exporter": "python",
   "pygments_lexer": "ipython3",
   "version": "3.7.16"
  }
 },
 "nbformat": 4,
 "nbformat_minor": 5
}
